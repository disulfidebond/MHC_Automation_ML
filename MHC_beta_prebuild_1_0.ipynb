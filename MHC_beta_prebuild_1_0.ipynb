{
 "cells": [
  {
   "cell_type": "code",
   "execution_count": 1,
   "metadata": {
    "collapsed": true
   },
   "outputs": [],
   "source": [
    "# Beta release 1.0\n",
    "# see Experiment 21356 for detailed explanation, comments, as well as links to github build"
   ]
  },
  {
   "cell_type": "code",
   "execution_count": 2,
   "metadata": {
    "collapsed": true
   },
   "outputs": [],
   "source": [
    "from __future__ import division, print_function, unicode_literals\n",
    "\n",
    "# Common imports\n",
    "import numpy as np\n",
    "import os\n",
    "import time\n",
    "\n",
    "# to make this notebook's output stable across runs\n",
    "np.random.seed(42)\n",
    "\n",
    "# To plot pretty figures\n",
    "%matplotlib inline\n",
    "import matplotlib\n",
    "import matplotlib.pyplot as plt\n",
    "\n",
    "import numpy as np\n",
    "from sklearn.linear_model import SGDClassifier\n",
    "from sklearn.model_selection import cross_val_score\n",
    "\n",
    "from sklearn.model_selection import StratifiedKFold\n",
    "from sklearn.model_selection import KFold\n",
    "from sklearn.base import clone"
   ]
  },
  {
   "cell_type": "code",
   "execution_count": 3,
   "metadata": {
    "collapsed": true
   },
   "outputs": [],
   "source": [
    "# Model Setup\n",
    "# This should not be modified"
   ]
  },
  {
   "cell_type": "code",
   "execution_count": null,
   "metadata": {
    "collapsed": true
   },
   "outputs": [],
   "source": []
  },
  {
   "cell_type": "code",
   "execution_count": 4,
   "metadata": {
    "collapsed": true
   },
   "outputs": [],
   "source": [
    "def lambdaFunc(v):\n",
    "    return int(v)\n",
    "\n",
    "def openAndParse(f):\n",
    "    listValue = []\n",
    "    headerLine = ''\n",
    "    start = True\n",
    "    with open(f) as fOpen:\n",
    "        for i in fOpen:\n",
    "            if start:\n",
    "                iLine = i.split(',')\n",
    "                iLine = iLine.pop(0)\n",
    "                headerLine = ','.join(iLine)\n",
    "                start = False\n",
    "            else:\n",
    "                i = i.rstrip('\\n')\n",
    "                iSplit = i.split(',')\n",
    "                iSplitInt = list(map(lambdaFunc, iSplit[1:]))\n",
    "                # listValue.append((iSplit[0], iSplit[1:]))\n",
    "                listValue.append((iSplit[0], iSplitInt))\n",
    "    return (headerLine, listValue)\n",
    "# ToDo:\n",
    "# compile single training file\n",
    "# write parser for test function, include (even though not needed)\n",
    "# for values with n <= 3, use the following algorithm to generate pseudoreplicates:\n",
    "# # if sample is a paired sample, for example A001-A003:\n",
    "# # let A == condition1, B == condition2\n",
    "# # use sample S with A || (A && X) where X is another condition, where both conditions in S have n > 3\n",
    "# # use similarities for sub conditions to establish a \"new\" condition, for example:\n",
    "# # if sample S1 == A && C, with 1,2,3 ; S2 == A && D, with 1,3,4:\n",
    "# # # the \"new\" condition for A would be 1,3, AND create a new replicate of A that already exists\n",
    "trainingValues = openAndParse('allele_df-trainingSet-HapA.csv')\n",
    "testingValues = openAndParse('allele_df-testingSet-HapA.csv')"
   ]
  },
  {
   "cell_type": "code",
   "execution_count": 5,
   "metadata": {
    "collapsed": true
   },
   "outputs": [],
   "source": [
    "# ToDo:\n",
    "# Create parser for pivot file that converts input to one-hot vector\n",
    "# note: re-use existing parser"
   ]
  },
  {
   "cell_type": "code",
   "execution_count": 6,
   "metadata": {
    "collapsed": true
   },
   "outputs": [],
   "source": [
    "def valuesToTestList(valList, npArrayTupleList):\n",
    "    r = []\n",
    "    matched = False\n",
    "    for v in valList:\n",
    "        for vTuple in npArrayTupleList:\n",
    "            if v == vTuple[0]:\n",
    "                matched = True\n",
    "                r.append(vTuple[1])\n",
    "                break\n",
    "        if matched:\n",
    "            matched = False\n",
    "            continue\n",
    "        else:\n",
    "            print('WARNING!')\n",
    "            print(valList)\n",
    "            print(npArrayTupleList)\n",
    "            return None\n",
    "    return r\n",
    "        \n",
    "    \n",
    "def valuesToIntList(valList):\n",
    "    listedValues = []\n",
    "    ct = 0\n",
    "    l_strings = []\n",
    "    l_ints = []\n",
    "    l_strings_r = []\n",
    "    l_ints_r = []\n",
    "    npArrayList = []\n",
    "    for i in valList:\n",
    "        if i not in l_strings:\n",
    "            l_strings_r.append(i)\n",
    "            l_ints_r.append(ct)\n",
    "            l_strings.append(i)\n",
    "            l_ints.append(ct)\n",
    "            npArrayList.append(ct)\n",
    "            ct += 1\n",
    "        else:\n",
    "            v_i = l_strings.index(i)\n",
    "            v_i_string = l_strings[v_i]\n",
    "            v_ct = l_ints[v_i]\n",
    "            l_strings_r.append(v_i_string)\n",
    "            l_ints_r.append(v_ct)\n",
    "            npArrayList.append(v_ct)\n",
    "    npArrayTupleList = list(zip(l_strings_r,l_ints_r))\n",
    "    return (npArrayList, npArrayTupleList)\n",
    "\n",
    "def parseAndAddToList(i1,tupleList):\n",
    "    for itm in tupleList:\n",
    "        if i1 == itm[0]:\n",
    "            return itm[1]\n",
    "    return None\n"
   ]
  },
  {
   "cell_type": "code",
   "execution_count": 7,
   "metadata": {
    "collapsed": true
   },
   "outputs": [],
   "source": [
    "X_train = np.empty([len(trainingValues[1]), len(trainingValues[1][1][1])], dtype=int)\n",
    "Y_train = np.empty([len(trainingValues[1])], dtype=int)\n",
    "X_test = np.empty([len(testingValues[1]), len(testingValues[1][1][1])], dtype=int)\n",
    "Y_test = np.empty([len(testingValues[1])], dtype=int)\n",
    "\n",
    "trainingValueFromTuple = trainingValues[1]\n",
    "testingValueFromTuple = testingValues[1]\n",
    "\n",
    "lookupTableBecauseNumpy = []\n",
    "lookupTableBecauseNumpyTesting = []\n",
    "stopRange = len(trainingValueFromTuple)\n",
    "for x in range(0, stopRange):\n",
    "    aValue_x = trainingValueFromTuple[x][1]\n",
    "    aValue_y = trainingValueFromTuple[x][0]\n",
    "    X_train[x] = aValue_x\n",
    "    lookupTableBecauseNumpy.append(aValue_y)\n",
    "    Y_train[x] = np.array(x, dtype=int)\n",
    "stopRange = len(testingValueFromTuple)\n",
    "for x in range(0, stopRange):\n",
    "    aValue_x = testingValueFromTuple[x][1]\n",
    "    aValue_y = testingValueFromTuple[x][0]\n",
    "    X_test[x] = aValue_x\n",
    "    lookupTableBecauseNumpyTesting.append(aValue_y)\n",
    "    Y_test[x] = np.array(x, dtype=int)"
   ]
  },
  {
   "cell_type": "code",
   "execution_count": 22,
   "metadata": {},
   "outputs": [
    {
     "data": {
      "text/plain": [
       "array([[0, 0, 0, ..., 0, 0, 0],\n",
       "       [0, 0, 0, ..., 0, 0, 0],\n",
       "       [0, 0, 0, ..., 0, 0, 0],\n",
       "       ..., \n",
       "       [1, 0, 0, ..., 0, 0, 0],\n",
       "       [0, 1, 0, ..., 0, 0, 0],\n",
       "       [0, 0, 0, ..., 0, 0, 0]])"
      ]
     },
     "execution_count": 22,
     "metadata": {},
     "output_type": "execute_result"
    }
   ],
   "source": [
    "# ToDo:\n",
    "# create output file from CSV file that matches pivotFile output\n",
    "X_train\n"
   ]
  },
  {
   "cell_type": "code",
   "execution_count": 10,
   "metadata": {},
   "outputs": [],
   "source": [
    "parsedTrainingResults = valuesToIntList(lookupTableBecauseNumpy)\n",
    "Y_train = np.array(parsedTrainingResults[0])\n",
    "parsedLabelLookupTable = []\n",
    "for itm in lookupTableBecauseNumpyTesting:\n",
    "    res = parseAndAddToList(itm, parsedTrainingResults[1])\n",
    "    if res is not None:\n",
    "        parsedLabelLookupTable.append((itm, res))\n",
    "    else:\n",
    "        print('WARNING!  Check Value ' + str(itm))\n",
    "Y_testList = valuesToTestList(lookupTableBecauseNumpyTesting, parsedLabelLookupTable)\n",
    "# print(Y_train)\n",
    "# print(parsedTrainingResults[1])\n",
    "Y_test = np.array(Y_testList)"
   ]
  },
  {
   "cell_type": "code",
   "execution_count": 11,
   "metadata": {
    "collapsed": true
   },
   "outputs": [],
   "source": [
    "from sklearn.model_selection import GridSearchCV\n",
    "from sklearn.neighbors import KNeighborsClassifier\n",
    "\n",
    "knn_clf = KNeighborsClassifier(n_jobs=-1, weights='distance', n_neighbors=4)\n",
    "knn_clf.fit(X_train, Y_train)\n",
    "y_knn_pred = knn_clf.predict(X_test)"
   ]
  },
  {
   "cell_type": "code",
   "execution_count": 12,
   "metadata": {},
   "outputs": [
    {
     "data": {
      "text/plain": [
       "1.0"
      ]
     },
     "execution_count": 12,
     "metadata": {},
     "output_type": "execute_result"
    }
   ],
   "source": [
    "from sklearn.metrics import accuracy_score\n",
    "accuracy_score(Y_test, y_knn_pred)"
   ]
  },
  {
   "cell_type": "code",
   "execution_count": 13,
   "metadata": {},
   "outputs": [
    {
     "data": {
      "text/plain": [
       "1.0"
      ]
     },
     "execution_count": 13,
     "metadata": {},
     "output_type": "execute_result"
    }
   ],
   "source": [
    "from sklearn.ensemble import RandomForestClassifier\n",
    "from sklearn.linear_model import SGDClassifier\n",
    "forest_clf = RandomForestClassifier(random_state=42)\n",
    "forest_clf.fit(X_train, Y_train)\n",
    "forest_clf_pred = forest_clf.predict(X_test)\n",
    "\n",
    "accuracy_score(Y_test, forest_clf_pred)"
   ]
  },
  {
   "cell_type": "code",
   "execution_count": 19,
   "metadata": {},
   "outputs": [
    {
     "data": {
      "text/plain": [
       "array([ 0.80434783,  0.90243902])"
      ]
     },
     "execution_count": 19,
     "metadata": {},
     "output_type": "execute_result"
    }
   ],
   "source": [
    "cross_val_score(forest_clf, X_train, Y_train, cv=2, scoring=\"accuracy\")"
   ]
  },
  {
   "cell_type": "code",
   "execution_count": null,
   "metadata": {
    "collapsed": true
   },
   "outputs": [],
   "source": []
  }
 ],
 "metadata": {
  "kernelspec": {
   "display_name": "Python 3",
   "language": "python",
   "name": "python3"
  },
  "language_info": {
   "codemirror_mode": {
    "name": "ipython",
    "version": 3
   },
   "file_extension": ".py",
   "mimetype": "text/x-python",
   "name": "python",
   "nbconvert_exporter": "python",
   "pygments_lexer": "ipython3",
   "version": "3.6.3"
  }
 },
 "nbformat": 4,
 "nbformat_minor": 2
}
