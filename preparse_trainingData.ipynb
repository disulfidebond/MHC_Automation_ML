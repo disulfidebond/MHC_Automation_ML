{
 "cells": [
  {
   "cell_type": "code",
   "execution_count": 24,
   "metadata": {},
   "outputs": [],
   "source": [
    "import pandas as pd\n",
    "from pandas import DataFrame\n",
    "import re\n",
    "import time\n",
    "import math\n",
    "\n",
    "alleleDF = pd.read_csv('allele-df-training_all-mhcA.csv')\n",
    "hapList = list(alleleDF.iloc[:,0])"
   ]
  },
  {
   "cell_type": "code",
   "execution_count": 25,
   "metadata": {},
   "outputs": [],
   "source": [
    "def parsePandasDfRows(col1ListFromPdDf):\n",
    "    headers = True\n",
    "    mamuA_indices = []\n",
    "    mamuB_indices = []\n",
    "    skipIndices = []\n",
    "    genotypeList = []\n",
    "    for idx,val in enumerate(col1ListFromPdDf):\n",
    "        if headers:\n",
    "            m = re.search('Comment', str(val))\n",
    "            mA = re.search('Mamu-A', str(val))\n",
    "            mB = re.search('Mamu-B', str(val))\n",
    "            if m:\n",
    "                headers = False\n",
    "                skipIndices.append(idx)\n",
    "                continue\n",
    "            elif mA:\n",
    "                mamuA_indices.append(idx)\n",
    "            elif mB:\n",
    "                mamuB_indices.append(idx)\n",
    "            else:\n",
    "                skipIndices.append(idx)\n",
    "                continue\n",
    "        else:\n",
    "            m = re.search('Alleles', str(val))\n",
    "            if m:\n",
    "                skipIndices.append(idx)\n",
    "            else:\n",
    "                genotypeList.append(val)\n",
    "                continue\n",
    "    return (skipIndices, mamuA_indices, mamuB_indices, genotypeList)\n",
    "\n",
    "def parseLabeledValues(l):\n",
    "    r = []\n",
    "    for i in l:\n",
    "        iSplit = i.split('-')\n",
    "        if len(iSplit) == 1:\n",
    "            r.append(i)\n",
    "            continue\n",
    "        iSplitSorted = sorted(iSplit)\n",
    "        iSplitSortedString = '-'.join(iSplitSorted)\n",
    "        if iSplit[0] == iSplit[1]:\n",
    "            r.append(iSplit[0])\n",
    "        else:\n",
    "            r.append(iSplitSortedString)\n",
    "            # this is better approach than checking if the reverse string is present\n",
    "            # sort all pairs and append, since duplicates do not matter, but order does\n",
    "            # IMPORTANT: this does NOT remove any entries, only modifies labeling\n",
    "    return r"
   ]
  },
  {
   "cell_type": "code",
   "execution_count": 26,
   "metadata": {},
   "outputs": [],
   "source": [
    "parsedDF_rowNames = parseLabeledValues(hapList)\n",
    "# debugging code is commented out\n",
    "# for i in range(0, len(parsedDF_rowNames)):\n",
    "#    o = str(parsedDF_rowNames[i]) + ',' + str(hapList[i])\n",
    "#    print(o)\n",
    "\n",
    "for x in range(0, len(parsedDF_rowNames)):\n",
    "    alleleDF.iloc[x,0] = parsedDF_rowNames[x]\n",
    "# print(hapList)\n",
    "hapListUpdated = list(alleleDF.iloc[:,0])\n",
    "# print('\\n\\n\\n\\n\\n')\n",
    "# print(hapListUpdated)\n",
    "alleleDF.to_csv('allele-df-training_all-mhcA.nameCorrected.csv')"
   ]
  },
  {
   "cell_type": "code",
   "execution_count": 14,
   "metadata": {},
   "outputs": [
    {
     "data": {
      "text/plain": [
       "['A001', 'A002']"
      ]
     },
     "execution_count": 14,
     "metadata": {},
     "output_type": "execute_result"
    }
   ],
   "source": [
    "s = 'A001'\n",
    "s1 = 'A001-A002'\n"
   ]
  },
  {
   "cell_type": "code",
   "execution_count": null,
   "metadata": {},
   "outputs": [],
   "source": []
  }
 ],
 "metadata": {
  "kernelspec": {
   "display_name": "Python 3",
   "language": "python",
   "name": "python3"
  },
  "language_info": {
   "codemirror_mode": {
    "name": "ipython",
    "version": 3
   },
   "file_extension": ".py",
   "mimetype": "text/x-python",
   "name": "python",
   "nbconvert_exporter": "python",
   "pygments_lexer": "ipython3",
   "version": "3.6.4"
  }
 },
 "nbformat": 4,
 "nbformat_minor": 2
}
